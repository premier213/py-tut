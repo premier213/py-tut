{
 "cells": [
  {
   "cell_type": "code",
   "execution_count": 1,
   "metadata": {},
   "outputs": [],
   "source": [
    "import pdb"
   ]
  },
  {
   "cell_type": "code",
   "execution_count": 5,
   "metadata": {},
   "outputs": [
    {
     "name": "stdout",
     "output_type": "stream",
     "text": [
      "--Call--\n",
      "> \u001b[1;32mc:\\users\\premi\\appdata\\roaming\\python\\python311\\site-packages\\ipython\\core\\displayhook.py\u001b[0m(258)\u001b[0;36m__call__\u001b[1;34m()\u001b[0m\n",
      "\u001b[1;32m    256 \u001b[1;33m        \u001b[0msys\u001b[0m\u001b[1;33m.\u001b[0m\u001b[0mstdout\u001b[0m\u001b[1;33m.\u001b[0m\u001b[0mflush\u001b[0m\u001b[1;33m(\u001b[0m\u001b[1;33m)\u001b[0m\u001b[1;33m\u001b[0m\u001b[1;33m\u001b[0m\u001b[0m\n",
      "\u001b[0m\u001b[1;32m    257 \u001b[1;33m\u001b[1;33m\u001b[0m\u001b[0m\n",
      "\u001b[0m\u001b[1;32m--> 258 \u001b[1;33m    \u001b[1;32mdef\u001b[0m \u001b[0m__call__\u001b[0m\u001b[1;33m(\u001b[0m\u001b[0mself\u001b[0m\u001b[1;33m,\u001b[0m \u001b[0mresult\u001b[0m\u001b[1;33m=\u001b[0m\u001b[1;32mNone\u001b[0m\u001b[1;33m)\u001b[0m\u001b[1;33m:\u001b[0m\u001b[1;33m\u001b[0m\u001b[1;33m\u001b[0m\u001b[0m\n",
      "\u001b[0m\u001b[1;32m    259 \u001b[1;33m        \"\"\"Printing with history cache management.\n",
      "\u001b[0m\u001b[1;32m    260 \u001b[1;33m\u001b[1;33m\u001b[0m\u001b[0m\n",
      "\u001b[0m\n",
      "*** NameError: name 'x' is not defined\n",
      "*** NameError: name 'x' is not defined\n",
      "*** NameError: name 'y' is not defined\n",
      "*** NameError: name 'y' is not defined\n",
      "*** NameError: name 'y' is not defined\n",
      "*** NameError: name 'y' is not defined\n",
      "*** NameError: name 'y' is not defined\n",
      "*** NameError: name 'y' is not defined\n",
      "*** NameError: name 'y' is not defined\n",
      "*** NameError: name 'y' is not defined\n",
      "*** NameError: name 'y' is not defined\n",
      "*** NameError: name 'y' is not defined\n",
      "*** NameError: name 'y' is not defined\n",
      "*** NameError: name 'y' is not defined\n",
      "*** NameError: name 'y' is not defined\n",
      "*** NameError: name 'y' is not defined\n",
      "*** NameError: name 'y' is not defined\n",
      "*** NameError: name 'y' is not defined\n",
      "*** NameError: name 'y' is not defined\n",
      "*** NameError: name 'y' is not defined\n",
      "*** NameError: name 'y' is not defined\n",
      "*** NameError: name 'y' is not defined\n",
      "*** NameError: name 'y' is not defined\n",
      "*** NameError: name 'y' is not defined\n",
      "*** NameError: name 'y' is not defined\n",
      "*** NameError: name 'y' is not defined\n",
      "*** NameError: name 'y' is not defined\n",
      "*** NameError: name 'y' is not defined\n",
      "*** NameError: name 'y' is not defined\n",
      "*** NameError: name 'y' is not defined\n",
      "*** NameError: name 'y' is not defined\n",
      "*** NameError: name 'y' is not defined\n",
      "*** NameError: name 'y' is not defined\n",
      "*** NameError: name 'y' is not defined\n",
      "*** NameError: name 'y' is not defined\n",
      "*** NameError: name 'y' is not defined\n",
      "*** NameError: name 'y' is not defined\n",
      "*** NameError: name 'y' is not defined\n",
      "*** NameError: name 'y' is not defined\n",
      "*** NameError: name 'y' is not defined\n",
      "*** NameError: name 'y' is not defined\n",
      "*** NameError: name 'y' is not defined\n",
      "*** NameError: name 'y' is not defined\n",
      "*** NameError: name 'y' is not defined\n",
      "*** NameError: name 'y' is not defined\n",
      "*** NameError: name 'y' is not defined\n",
      "*** NameError: name 'y' is not defined\n",
      "*** NameError: name 'y' is not defined\n",
      "*** NameError: name 'y' is not defined\n",
      "*** NameError: name 'y' is not defined\n",
      "*** NameError: name 'y' is not defined\n",
      "*** NameError: name 'y' is not defined\n",
      "*** NameError: name 'y' is not defined\n"
     ]
    }
   ],
   "source": [
    "x = [1,2,3]\n",
    "y = 5\n",
    "z = 10\n",
    "pdb.set_trace()\n"
   ]
  },
  {
   "cell_type": "code",
   "execution_count": 3,
   "metadata": {},
   "outputs": [],
   "source": [
    "result1 = y+z"
   ]
  },
  {
   "cell_type": "code",
   "execution_count": 4,
   "metadata": {},
   "outputs": [
    {
     "ename": "TypeError",
     "evalue": "unsupported operand type(s) for +: 'int' and 'list'",
     "output_type": "error",
     "traceback": [
      "\u001b[1;31m---------------------------------------------------------------------------\u001b[0m",
      "\u001b[1;31mTypeError\u001b[0m                                 Traceback (most recent call last)",
      "Cell \u001b[1;32mIn[4], line 1\u001b[0m\n\u001b[1;32m----> 1\u001b[0m result2\u001b[39m=\u001b[39m y\u001b[39m+\u001b[39;49mx\n",
      "\u001b[1;31mTypeError\u001b[0m: unsupported operand type(s) for +: 'int' and 'list'"
     ]
    }
   ],
   "source": [
    "result2= y+x"
   ]
  },
  {
   "cell_type": "code",
   "execution_count": null,
   "metadata": {},
   "outputs": [],
   "source": []
  }
 ],
 "metadata": {
  "kernelspec": {
   "display_name": "Python 3",
   "language": "python",
   "name": "python3"
  },
  "language_info": {
   "codemirror_mode": {
    "name": "ipython",
    "version": 3
   },
   "file_extension": ".py",
   "mimetype": "text/x-python",
   "name": "python",
   "nbconvert_exporter": "python",
   "pygments_lexer": "ipython3",
   "version": "3.11.1"
  },
  "orig_nbformat": 4
 },
 "nbformat": 4,
 "nbformat_minor": 2
}
